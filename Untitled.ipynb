{
 "cells": [
  {
   "cell_type": "code",
   "execution_count": 34,
   "id": "4718f32c",
   "metadata": {},
   "outputs": [],
   "source": [
    "import requests\n",
    "import pandas as pd\n",
    "import json"
   ]
  },
  {
   "cell_type": "code",
   "execution_count": 35,
   "id": "878d589b",
   "metadata": {},
   "outputs": [],
   "source": [
    "base_url = 'http://localhost:3000'\n",
    "schemaId = 1\n",
    "headers = {\n",
    "            'Content-type': 'application/json',\n",
    "            \"User-Agent\": \"Mozilla/5.0 (Linux; Android 7.0.0; SM-G960F Build/R16NW) AppleWebKit/537.36 (KHTML, like Gecko) Chrome/62.0.3202.84 Mobile Safari/537.36\"\n",
    "}\n",
    "\n",
    "url_order_schema_details = '{base}/order-schema/{order_schema_id}'.format(base=base_url, order_schema_id=schemaId)\n",
    "\n",
    "order_schema_details_res = requests.get(url_order_schema_details)\n",
    "order_schema_details = order_schema_details_res.json()\n"
   ]
  },
  {
   "cell_type": "code",
   "execution_count": 62,
   "id": "f284da0a",
   "metadata": {},
   "outputs": [],
   "source": [
    "url_order = '{base_url}/order/'.format(base_url=base_url)\n",
    "order_list = []\n",
    "order_original_list = []\n",
    "\n",
    "\n",
    "def checkForChildOrders(order_id):\n",
    "    order_list_x = []\n",
    "    url_order_x = '{url_order}{order_id}'.format(url_order=url_order, order_id=order_id)\n",
    "    order_temp = requests.get(url_order_x, headers=headers).json()\n",
    "    order_temp_orders = order_temp['orders']\n",
    "    if len(order_temp_orders) > 0:\n",
    "        for o in order_temp_orders:\n",
    "            order_list_x.extend(checkForChildOrders(o['id']))\n",
    "    else: \n",
    "        order_list_x.append(order_temp)\n",
    "    return order_list_x\n",
    "\n",
    "\n",
    "for order in order_schema_details['orders']:\n",
    "    if order['status']['id'] == 0 and not order['isBuy']:\n",
    "        order_list_x = checkForChildOrders(order['id'])\n",
    "        order_original_list.append(order['id'])\n",
    "        order_list.extend(order_list_x)\n",
    "    "
   ]
  },
  {
   "cell_type": "code",
   "execution_count": 63,
   "id": "0a21a1fe",
   "metadata": {},
   "outputs": [],
   "source": [
    "if len(order_list) > 1:\n",
    "    dfNewOrders = pd.DataFrame(order_list)\n",
    "    meanValue = round(dfNewOrders['value'].astype(float).mean())\n",
    "    qntToSell = float(order_schema_details['quantity']) * dfNewOrders['id'].count()    \n",
    "    data = json.dumps({ \n",
    "                \"isBuy\": False,\n",
    "                \"value\": meanValue,\n",
    "                \"schemaId\": schemaId,\n",
    "                \"orders\": order_original_list\n",
    "            })\n",
    "    order = requests.post(url_order, data=data, headers=headers).json()"
   ]
  },
  {
   "cell_type": "code",
   "execution_count": 29,
   "id": "bca821a1",
   "metadata": {},
   "outputs": [
    {
     "data": {
      "text/plain": [
       "'{\"isBuy\": false, \"value\": 41515, \"schemaId\": 1, \"orders\": [7165, 7157]}'"
      ]
     },
     "execution_count": 29,
     "metadata": {},
     "output_type": "execute_result"
    }
   ],
   "source": [
    "data\n"
   ]
  },
  {
   "cell_type": "code",
   "execution_count": null,
   "id": "b933230e",
   "metadata": {},
   "outputs": [],
   "source": []
  },
  {
   "cell_type": "code",
   "execution_count": null,
   "id": "a2f986a2",
   "metadata": {},
   "outputs": [],
   "source": []
  },
  {
   "cell_type": "code",
   "execution_count": null,
   "id": "4a5c4f14",
   "metadata": {},
   "outputs": [],
   "source": []
  }
 ],
 "metadata": {
  "kernelspec": {
   "display_name": "Python 3 (ipykernel)",
   "language": "python",
   "name": "python3"
  },
  "language_info": {
   "codemirror_mode": {
    "name": "ipython",
    "version": 3
   },
   "file_extension": ".py",
   "mimetype": "text/x-python",
   "name": "python",
   "nbconvert_exporter": "python",
   "pygments_lexer": "ipython3",
   "version": "3.9.12"
  }
 },
 "nbformat": 4,
 "nbformat_minor": 5
}
