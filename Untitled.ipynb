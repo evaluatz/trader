{
 "cells": [
  {
   "cell_type": "code",
   "execution_count": 64,
   "id": "4718f32c",
   "metadata": {},
   "outputs": [],
   "source": [
    "import requests\n",
    "import pandas as pd\n",
    "import json"
   ]
  },
  {
   "cell_type": "code",
   "execution_count": 65,
   "id": "878d589b",
   "metadata": {},
   "outputs": [],
   "source": [
    "base_url = 'http://localhost:3000'\n",
    "schemaId = 1\n",
    "headers = {\n",
    "            'Content-type': 'application/json',\n",
    "            \"User-Agent\": \"Mozilla/5.0 (Linux; Android 7.0.0; SM-G960F Build/R16NW) AppleWebKit/537.36 (KHTML, like Gecko) Chrome/62.0.3202.84 Mobile Safari/537.36\"\n",
    "}\n",
    "\n",
    "url_order_schema_details = '{base}/order-schema/{order_schema_id}'.format(base=base_url, order_schema_id=schemaId)\n",
    "\n",
    "order_schema_details_res = requests.get(url_order_schema_details)\n",
    "order_schema_details = order_schema_details_res.json()\n"
   ]
  },
  {
   "cell_type": "code",
   "execution_count": 66,
   "id": "f284da0a",
   "metadata": {},
   "outputs": [],
   "source": [
    "url_order = '{base_url}/order/'.format(base_url=base_url)\n",
    "\n",
    "newOrders = []\n",
    "for order in order_schema_details['orders']:\n",
    "    if order['status']['id'] == 0 and not order['isBuy']:\n",
    "        newOrders.append(order)\n",
    "\n",
    "if len(newOrders) > 1:\n",
    "    dfNewOrders = pd.DataFrame(newOrders)\n",
    "    meanValue = round(dfNewOrders['value'].astype(float).mean())\n",
    "    qntToSell = float(order_schema_details['quantity']) * dfNewOrders['id'].count()    \n",
    "    data = json.dumps({ \n",
    "                \"isBuy\": False,\n",
    "                \"value\": meanValue,\n",
    "                \"schemaId\": schemaId,\n",
    "                \"orders\": dfNewOrders['id'].to_list()\n",
    "            })\n",
    "    order = requests.post(url_order, data=data, headers=headers).json()\n",
    "    "
   ]
  },
  {
   "cell_type": "code",
   "execution_count": 63,
   "id": "0a21a1fe",
   "metadata": {},
   "outputs": [
    {
     "data": {
      "text/plain": [
       "[6930, 6929, 5796, 5790]"
      ]
     },
     "execution_count": 63,
     "metadata": {},
     "output_type": "execute_result"
    }
   ],
   "source": [
    "dfNewOrders['id'].to_list()\n"
   ]
  },
  {
   "cell_type": "code",
   "execution_count": 44,
   "id": "bca821a1",
   "metadata": {},
   "outputs": [],
   "source": []
  },
  {
   "cell_type": "code",
   "execution_count": 32,
   "id": "b933230e",
   "metadata": {},
   "outputs": [
    {
     "data": {
      "text/plain": [
       "41268"
      ]
     },
     "execution_count": 32,
     "metadata": {},
     "output_type": "execute_result"
    }
   ],
   "source": [
    "meanValue"
   ]
  },
  {
   "cell_type": "code",
   "execution_count": 36,
   "id": "a2f986a2",
   "metadata": {},
   "outputs": [
    {
     "data": {
      "text/plain": [
       "1000"
      ]
     },
     "execution_count": 36,
     "metadata": {},
     "output_type": "execute_result"
    }
   ],
   "source": []
  },
  {
   "cell_type": "code",
   "execution_count": null,
   "id": "4a5c4f14",
   "metadata": {},
   "outputs": [],
   "source": []
  }
 ],
 "metadata": {
  "kernelspec": {
   "display_name": "Python 3 (ipykernel)",
   "language": "python",
   "name": "python3"
  },
  "language_info": {
   "codemirror_mode": {
    "name": "ipython",
    "version": 3
   },
   "file_extension": ".py",
   "mimetype": "text/x-python",
   "name": "python",
   "nbconvert_exporter": "python",
   "pygments_lexer": "ipython3",
   "version": "3.9.12"
  }
 },
 "nbformat": 4,
 "nbformat_minor": 5
}
