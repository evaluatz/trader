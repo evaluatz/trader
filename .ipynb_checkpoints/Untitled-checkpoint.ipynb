{
 "cells": [
  {
   "cell_type": "code",
   "execution_count": 1,
   "id": "4718f32c",
   "metadata": {},
   "outputs": [],
   "source": [
    "import requests\n",
    "import pandas as pd\n",
    "import json"
   ]
  },
  {
   "cell_type": "code",
   "execution_count": 3,
   "id": "878d589b",
   "metadata": {},
   "outputs": [],
   "source": [
    "base_url = 'http://localhost:3000'\n",
    "schemaId = 1\n",
    "headers = {\n",
    "            'Content-type': 'application/json',\n",
    "            \"User-Agent\": \"Mozilla/5.0 (Linux; Android 7.0.0; SM-G960F Build/R16NW) AppleWebKit/537.36 (KHTML, like Gecko) Chrome/62.0.3202.84 Mobile Safari/537.36\"\n",
    "}\n",
    "\n",
    "url_order_schema_details = '{base}/order-schema/{order_schema_id}'.format(base=base_url, order_schema_id=schemaId)\n",
    "\n",
    "order_schema_details_res = requests.get(url_order_schema_details)\n",
    "order_schema_details = order_schema_details_res.json()\n"
   ]
  },
  {
   "cell_type": "code",
   "execution_count": 8,
   "id": "f284da0a",
   "metadata": {},
   "outputs": [
    {
     "name": "stdout",
     "output_type": "stream",
     "text": [
      "{'id': 7165, 'createdAt': '2022-04-19T20:28:08.322Z', 'isBuy': False, 'value': '41355.000000000000000', 'sourceOrderId': '10236352148', 'status': 'FILLED', 'orders': [], 'belongsTo': None}\n",
      "{'id': 7157, 'createdAt': '2022-04-19T20:00:15.913Z', 'isBuy': False, 'value': '41514.000000000000000', 'sourceOrderId': '10236162573', 'status': 'NEW', 'orders': [{'id': 7152, 'createdAt': '2022-04-19T19:39:05.718Z', 'isBuy': False, 'value': '41509.000000000000000', 'sourceOrderId': '10235947953'}, {'id': 7139, 'createdAt': '2022-04-19T19:00:17.407Z', 'isBuy': False, 'value': '41596.000000000000000', 'sourceOrderId': '10235637283'}, {'id': 7149, 'createdAt': '2022-04-19T19:39:04.935Z', 'isBuy': False, 'value': '41470.000000000000000', 'sourceOrderId': '10235947602'}, {'id': 7153, 'createdAt': '2022-04-19T19:39:08.477Z', 'isBuy': False, 'value': '41489.000000000000000', 'sourceOrderId': '10235949325'}, {'id': 7151, 'createdAt': '2022-04-19T19:39:05.155Z', 'isBuy': False, 'value': '41505.000000000000000', 'sourceOrderId': '10235947622'}], 'belongsTo': None}\n",
      "{'id': 7152, 'createdAt': '2022-04-19T19:39:05.718Z', 'isBuy': False, 'value': '41509.000000000000000', 'sourceOrderId': '10235947953', 'status': 'CANCELED', 'orders': [], 'belongsTo': {'id': 7157, 'createdAt': '2022-04-19T20:00:15.913Z', 'isBuy': False, 'value': '41514.000000000000000', 'sourceOrderId': '10236162573'}}\n",
      "{'id': 7139, 'createdAt': '2022-04-19T19:00:17.407Z', 'isBuy': False, 'value': '41596.000000000000000', 'sourceOrderId': '10235637283', 'status': 'CANCELED', 'orders': [{'id': 7135, 'createdAt': '2022-04-19T18:34:08.567Z', 'isBuy': False, 'value': '41585.000000000000000', 'sourceOrderId': '10235420562'}, {'id': 7129, 'createdAt': '2022-04-19T18:21:04.921Z', 'isBuy': False, 'value': '41650.000000000000000', 'sourceOrderId': '10235296502'}, {'id': 7132, 'createdAt': '2022-04-19T18:34:03.589Z', 'isBuy': False, 'value': '41554.000000000000000', 'sourceOrderId': '10235419717'}], 'belongsTo': {'id': 7157, 'createdAt': '2022-04-19T20:00:15.913Z', 'isBuy': False, 'value': '41514.000000000000000', 'sourceOrderId': '10236162573'}}\n",
      "{'id': 7135, 'createdAt': '2022-04-19T18:34:08.567Z', 'isBuy': False, 'value': '41585.000000000000000', 'sourceOrderId': '10235420562', 'status': 'CANCELED', 'orders': [], 'belongsTo': {'id': 7139, 'createdAt': '2022-04-19T19:00:17.407Z', 'isBuy': False, 'value': '41596.000000000000000', 'sourceOrderId': '10235637283'}}\n",
      "{'id': 7129, 'createdAt': '2022-04-19T18:21:04.921Z', 'isBuy': False, 'value': '41650.000000000000000', 'sourceOrderId': '10235296502', 'status': 'CANCELED', 'orders': [], 'belongsTo': {'id': 7139, 'createdAt': '2022-04-19T19:00:17.407Z', 'isBuy': False, 'value': '41596.000000000000000', 'sourceOrderId': '10235637283'}}\n",
      "{'id': 7132, 'createdAt': '2022-04-19T18:34:03.589Z', 'isBuy': False, 'value': '41554.000000000000000', 'sourceOrderId': '10235419717', 'status': 'CANCELED', 'orders': [], 'belongsTo': {'id': 7139, 'createdAt': '2022-04-19T19:00:17.407Z', 'isBuy': False, 'value': '41596.000000000000000', 'sourceOrderId': '10235637283'}}\n",
      "{'id': 7149, 'createdAt': '2022-04-19T19:39:04.935Z', 'isBuy': False, 'value': '41470.000000000000000', 'sourceOrderId': '10235947602', 'status': 'CANCELED', 'orders': [], 'belongsTo': {'id': 7157, 'createdAt': '2022-04-19T20:00:15.913Z', 'isBuy': False, 'value': '41514.000000000000000', 'sourceOrderId': '10236162573'}}\n",
      "{'id': 7153, 'createdAt': '2022-04-19T19:39:08.477Z', 'isBuy': False, 'value': '41489.000000000000000', 'sourceOrderId': '10235949325', 'status': 'CANCELED', 'orders': [], 'belongsTo': {'id': 7157, 'createdAt': '2022-04-19T20:00:15.913Z', 'isBuy': False, 'value': '41514.000000000000000', 'sourceOrderId': '10236162573'}}\n",
      "{'id': 7151, 'createdAt': '2022-04-19T19:39:05.155Z', 'isBuy': False, 'value': '41505.000000000000000', 'sourceOrderId': '10235947622', 'status': 'CANCELED', 'orders': [], 'belongsTo': {'id': 7157, 'createdAt': '2022-04-19T20:00:15.913Z', 'isBuy': False, 'value': '41514.000000000000000', 'sourceOrderId': '10236162573'}}\n"
     ]
    },
    {
     "ename": "KeyError",
     "evalue": "'value'",
     "output_type": "error",
     "traceback": [
      "\u001b[0;31m---------------------------------------------------------------------------\u001b[0m",
      "\u001b[0;31mKeyError\u001b[0m                                  Traceback (most recent call last)",
      "Input \u001b[0;32mIn [8]\u001b[0m, in \u001b[0;36m<cell line: 25>\u001b[0;34m()\u001b[0m\n\u001b[1;32m     25\u001b[0m \u001b[38;5;28;01mif\u001b[39;00m \u001b[38;5;28mlen\u001b[39m(newOrders) \u001b[38;5;241m>\u001b[39m \u001b[38;5;241m1\u001b[39m:\n\u001b[1;32m     26\u001b[0m     dfNewOrders \u001b[38;5;241m=\u001b[39m pd\u001b[38;5;241m.\u001b[39mDataFrame(order_list)\n\u001b[0;32m---> 27\u001b[0m     meanValue \u001b[38;5;241m=\u001b[39m \u001b[38;5;28mround\u001b[39m(\u001b[43mdfNewOrders\u001b[49m\u001b[43m[\u001b[49m\u001b[38;5;124;43m'\u001b[39;49m\u001b[38;5;124;43mvalue\u001b[39;49m\u001b[38;5;124;43m'\u001b[39;49m\u001b[43m]\u001b[49m\u001b[38;5;241m.\u001b[39mastype(\u001b[38;5;28mfloat\u001b[39m)\u001b[38;5;241m.\u001b[39mmean())\n\u001b[1;32m     28\u001b[0m     qntToSell \u001b[38;5;241m=\u001b[39m \u001b[38;5;28mfloat\u001b[39m(order_schema_details[\u001b[38;5;124m'\u001b[39m\u001b[38;5;124mquantity\u001b[39m\u001b[38;5;124m'\u001b[39m]) \u001b[38;5;241m*\u001b[39m dfNewOrders[\u001b[38;5;124m'\u001b[39m\u001b[38;5;124mid\u001b[39m\u001b[38;5;124m'\u001b[39m]\u001b[38;5;241m.\u001b[39mcount()    \n\u001b[1;32m     29\u001b[0m     data \u001b[38;5;241m=\u001b[39m json\u001b[38;5;241m.\u001b[39mdumps({ \n\u001b[1;32m     30\u001b[0m                 \u001b[38;5;124m\"\u001b[39m\u001b[38;5;124misBuy\u001b[39m\u001b[38;5;124m\"\u001b[39m: \u001b[38;5;28;01mFalse\u001b[39;00m,\n\u001b[1;32m     31\u001b[0m                 \u001b[38;5;124m\"\u001b[39m\u001b[38;5;124mvalue\u001b[39m\u001b[38;5;124m\"\u001b[39m: meanValue,\n\u001b[1;32m     32\u001b[0m                 \u001b[38;5;124m\"\u001b[39m\u001b[38;5;124mschemaId\u001b[39m\u001b[38;5;124m\"\u001b[39m: schemaId,\n\u001b[1;32m     33\u001b[0m                 \u001b[38;5;124m\"\u001b[39m\u001b[38;5;124morders\u001b[39m\u001b[38;5;124m\"\u001b[39m: dfNewOrders[\u001b[38;5;124m'\u001b[39m\u001b[38;5;124mid\u001b[39m\u001b[38;5;124m'\u001b[39m]\u001b[38;5;241m.\u001b[39mto_list()\n\u001b[1;32m     34\u001b[0m             })\n",
      "File \u001b[0;32m/usr/local/lib/python3.9/site-packages/pandas/core/frame.py:3505\u001b[0m, in \u001b[0;36mDataFrame.__getitem__\u001b[0;34m(self, key)\u001b[0m\n\u001b[1;32m   3503\u001b[0m \u001b[38;5;28;01mif\u001b[39;00m \u001b[38;5;28mself\u001b[39m\u001b[38;5;241m.\u001b[39mcolumns\u001b[38;5;241m.\u001b[39mnlevels \u001b[38;5;241m>\u001b[39m \u001b[38;5;241m1\u001b[39m:\n\u001b[1;32m   3504\u001b[0m     \u001b[38;5;28;01mreturn\u001b[39;00m \u001b[38;5;28mself\u001b[39m\u001b[38;5;241m.\u001b[39m_getitem_multilevel(key)\n\u001b[0;32m-> 3505\u001b[0m indexer \u001b[38;5;241m=\u001b[39m \u001b[38;5;28;43mself\u001b[39;49m\u001b[38;5;241;43m.\u001b[39;49m\u001b[43mcolumns\u001b[49m\u001b[38;5;241;43m.\u001b[39;49m\u001b[43mget_loc\u001b[49m\u001b[43m(\u001b[49m\u001b[43mkey\u001b[49m\u001b[43m)\u001b[49m\n\u001b[1;32m   3506\u001b[0m \u001b[38;5;28;01mif\u001b[39;00m is_integer(indexer):\n\u001b[1;32m   3507\u001b[0m     indexer \u001b[38;5;241m=\u001b[39m [indexer]\n",
      "File \u001b[0;32m/usr/local/lib/python3.9/site-packages/pandas/core/indexes/range.py:389\u001b[0m, in \u001b[0;36mRangeIndex.get_loc\u001b[0;34m(self, key, method, tolerance)\u001b[0m\n\u001b[1;32m    387\u001b[0m             \u001b[38;5;28;01mraise\u001b[39;00m \u001b[38;5;167;01mKeyError\u001b[39;00m(key) \u001b[38;5;28;01mfrom\u001b[39;00m \u001b[38;5;21;01merr\u001b[39;00m\n\u001b[1;32m    388\u001b[0m     \u001b[38;5;28mself\u001b[39m\u001b[38;5;241m.\u001b[39m_check_indexing_error(key)\n\u001b[0;32m--> 389\u001b[0m     \u001b[38;5;28;01mraise\u001b[39;00m \u001b[38;5;167;01mKeyError\u001b[39;00m(key)\n\u001b[1;32m    390\u001b[0m \u001b[38;5;28;01mreturn\u001b[39;00m \u001b[38;5;28msuper\u001b[39m()\u001b[38;5;241m.\u001b[39mget_loc(key, method\u001b[38;5;241m=\u001b[39mmethod, tolerance\u001b[38;5;241m=\u001b[39mtolerance)\n",
      "\u001b[0;31mKeyError\u001b[0m: 'value'"
     ]
    }
   ],
   "source": [
    "url_order = '{base_url}/order/'.format(base_url=base_url)\n",
    "order_list = []\n",
    "\n",
    "\n",
    "def checkForChildOrders(order_id):\n",
    "    order_list_x = []\n",
    "    url_order_x = '{url_order}{order_id}'.format(url_order=url_order, order_id=order_id)\n",
    "    order_temp = requests.get(url_order_x, headers=headers).json()\n",
    "    order_temp_orders = order_temp['orders']\n",
    "    if len(order_temp_orders) > 0:\n",
    "        for o in order_temp_orders:\n",
    "            order_list_x.extend(checkForChildOrders(o['id']))\n",
    "    else: \n",
    "        order_list_x.append(order_temp)\n",
    "    return order_list_x\n",
    "\n",
    "\n",
    "for order in order_schema_details['orders']:\n",
    "    if order['status']['id'] == 0 and not order['isBuy']:\n",
    "        order_list_x = checkForChildOrders(order['id'])\n",
    "        order_list.extend(order)\n",
    "\n",
    "if len(newOrders) > 1:\n",
    "    dfNewOrders = pd.DataFrame(order_list)\n",
    "    meanValue = round(dfNewOrders['value'].astype(float).mean())\n",
    "    qntToSell = float(order_schema_details['quantity']) * dfNewOrders['id'].count()    \n",
    "    data = json.dumps({ \n",
    "                \"isBuy\": False,\n",
    "                \"value\": meanValue,\n",
    "                \"schemaId\": schemaId,\n",
    "                \"orders\": dfNewOrders['id'].to_list()\n",
    "            })\n",
    "    #order = requests.post(url_order, data=data, headers=headers).json()\n",
    "    print(data)\n",
    "    "
   ]
  },
  {
   "cell_type": "code",
   "execution_count": 63,
   "id": "0a21a1fe",
   "metadata": {},
   "outputs": [
    {
     "data": {
      "text/plain": [
       "[6930, 6929, 5796, 5790]"
      ]
     },
     "execution_count": 63,
     "metadata": {},
     "output_type": "execute_result"
    }
   ],
   "source": []
  },
  {
   "cell_type": "code",
   "execution_count": 44,
   "id": "bca821a1",
   "metadata": {},
   "outputs": [],
   "source": []
  },
  {
   "cell_type": "code",
   "execution_count": 32,
   "id": "b933230e",
   "metadata": {},
   "outputs": [
    {
     "data": {
      "text/plain": [
       "41268"
      ]
     },
     "execution_count": 32,
     "metadata": {},
     "output_type": "execute_result"
    }
   ],
   "source": [
    "meanValue"
   ]
  },
  {
   "cell_type": "code",
   "execution_count": 36,
   "id": "a2f986a2",
   "metadata": {},
   "outputs": [
    {
     "data": {
      "text/plain": [
       "1000"
      ]
     },
     "execution_count": 36,
     "metadata": {},
     "output_type": "execute_result"
    }
   ],
   "source": []
  },
  {
   "cell_type": "code",
   "execution_count": null,
   "id": "4a5c4f14",
   "metadata": {},
   "outputs": [],
   "source": []
  }
 ],
 "metadata": {
  "kernelspec": {
   "display_name": "Python 3 (ipykernel)",
   "language": "python",
   "name": "python3"
  },
  "language_info": {
   "codemirror_mode": {
    "name": "ipython",
    "version": 3
   },
   "file_extension": ".py",
   "mimetype": "text/x-python",
   "name": "python",
   "nbconvert_exporter": "python",
   "pygments_lexer": "ipython3",
   "version": "3.9.12"
  }
 },
 "nbformat": 4,
 "nbformat_minor": 5
}
